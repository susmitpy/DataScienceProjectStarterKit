{
 "cells": [
  {
   "cell_type": "code",
   "execution_count": 12,
   "metadata": {},
   "outputs": [],
   "source": [
    "import pandas as pd\n",
    "\n",
    "from utils.common_transformers import DateHandler, IsNull, Dropper, DTypeTransformer, FeatureSelector\n",
    "\n",
    "from sklearn.preprocessing import StandardScaler\n",
    "\n",
    "from sklearn.compose import make_column_transformer, make_column_selector\n",
    "from sklearn.pipeline import make_pipeline\n",
    "\n",
    "from sklearn.linear_model import LinearRegression, Lasso, Ridge, BayesianRidge\n",
    "from sklearn.ensemble import RandomForestRegressor, AdaBoostRegressor\n",
    "\n",
    "from sklearn.model_selection import cross_val_score, train_test_split\n",
    "from sklearn.metrics import mean_squared_log_error, make_scorer\n",
    "\n",
    "import numpy as np"
   ]
  },
  {
   "cell_type": "code",
   "execution_count": 13,
   "metadata": {},
   "outputs": [
    {
     "data": {
      "text/plain": [
       "session_id         object\n",
       "session_number      int64\n",
       "client_agent       object\n",
       "device_details     object\n",
       "date               object\n",
       "purchased           int64\n",
       "added_in_cart       int64\n",
       "checked_out         int64\n",
       "time_spent        float64\n",
       "dtype: object"
      ]
     },
     "execution_count": 13,
     "metadata": {},
     "output_type": "execute_result"
    }
   ],
   "source": [
    "train = pd.read_csv(\"../data/Train.csv\")\n",
    "train.dtypes"
   ]
  },
  {
   "cell_type": "code",
   "execution_count": 14,
   "metadata": {},
   "outputs": [
    {
     "name": "stdout",
     "output_type": "stream",
     "text": [
      "['b', 'c']\n"
     ]
    }
   ],
   "source": [
    "l = [\"a\",\"b\",\"c\"]\n",
    "l1 = l\n",
    "l1.remove(\"a\")\n",
    "l2 = l.copy()\n",
    "l2.remove(\"c\")\n",
    "print(l)"
   ]
  },
  {
   "cell_type": "code",
   "execution_count": 15,
   "metadata": {},
   "outputs": [],
   "source": [
    "data_prepping = make_pipeline(\n",
    "    FeatureSelector([\"client_agent\",\"date\",\"purchased\",\"added_in_cart\",\"checked_out\"]),\n",
    "    DateHandler([\"date\"],date_format=\"%Y-%m-%d\",include=[\"quater\",\"is_holiday\",\"close_to_month_start_end\"]),\n",
    "    IsNull(include=[\"client_agent\"]),\n",
    "    StandardScaler()\n",
    ")"
   ]
  },
  {
   "cell_type": "code",
   "execution_count": 16,
   "metadata": {},
   "outputs": [],
   "source": [
    "models = {\n",
    "    \"LR\" : LinearRegression(),\n",
    "    \"Lasso\" : Lasso(alpha=0.8),\n",
    "    \"Ridge\" : BayesianRidge(),\n",
    "    \"RFR\" : RandomForestRegressor(criterion=\"mse\"),\n",
    "    \"ABR\" : AdaBoostRegressor(base_estimator=LinearRegression())\n",
    "}\n",
    "\n",
    "scores = {\n",
    "    \n",
    "}"
   ]
  },
  {
   "cell_type": "code",
   "execution_count": 17,
   "metadata": {},
   "outputs": [],
   "source": [
    "X = train.drop(\"time_spent\",axis=1)\n",
    "y = train[\"time_spent\"]\n",
    "X_train, X_test, y_train, y_test = train_test_split(train.drop(\"time_spent\",axis=1),train[\"time_spent\"])"
   ]
  },
  {
   "cell_type": "code",
   "execution_count": 18,
   "metadata": {},
   "outputs": [],
   "source": [
    "def calculate_root_mean_squared_log_error(y_true, y_pred):\n",
    "    \"\"\"Calculate root mean squared error of log(y_true) and log(y_pred)\"\"\"\n",
    "    if len(y_pred)!=len(y_true): return 'error_mismatch'\n",
    "    try:\n",
    "        y_pred = np.where(y_pred<0,0.1,y_pred)\n",
    "        y_pred_new = [math.log(x) for x in y_pred]\n",
    "        y_true_new = [math.log(x) for x in y_true]\n",
    "        return mean_squared_log_error(y_true_new, y_pred_new)\n",
    "    except Exception:\n",
    "        print(\"Problem in scoring logic\")"
   ]
  },
  {
   "cell_type": "code",
   "execution_count": 29,
   "metadata": {},
   "outputs": [
    {
     "data": {
      "text/plain": [
       "array([nan, nan, nan, nan, nan])"
      ]
     },
     "execution_count": 29,
     "metadata": {},
     "output_type": "execute_result"
    }
   ],
   "source": [
    "scorer = make_scorer(calculate_root_mean_squared_log_error)\n",
    "pipe = make_pipeline(data_prepping,Lasso())\n",
    "cross_val_score(pipe,X,y,cv=5,scoring=scorer)"
   ]
  },
  {
   "cell_type": "code",
   "execution_count": 30,
   "metadata": {},
   "outputs": [],
   "source": [
    "pipe.fit(X,y)\n",
    "y_pred = pipe.predict(X_test)\n",
    "y_pred = np.where(y_pred<0,0,y_pred)"
   ]
  },
  {
   "cell_type": "code",
   "execution_count": 31,
   "metadata": {},
   "outputs": [
    {
     "data": {
      "text/plain": [
       "3.9886820656848876"
      ]
     },
     "execution_count": 31,
     "metadata": {},
     "output_type": "execute_result"
    }
   ],
   "source": [
    "mean_squared_log_error(y_test,y_pred)"
   ]
  },
  {
   "cell_type": "code",
   "execution_count": 31,
   "metadata": {},
   "outputs": [
    {
     "name": "stdout",
     "output_type": "stream",
     "text": [
      "['client_agent', 'purchased', 'added_in_cart', 'checked_out', 'date_close_to_month_start_end', 'date_is_holiday', 'date_quater', 'date_close_to_month_start_end', 'date_is_holiday', 'date_quater']\n",
      "['client_agent', 'purchased', 'added_in_cart', 'checked_out', 'date_close_to_month_start_end', 'date_is_holiday', 'date_quater', 'date_close_to_month_start_end', 'date_is_holiday', 'date_quater']\n"
     ]
    },
    {
     "data": {
      "text/plain": [
       "array([1227.263253  , 1097.63291664,  312.15468778, ...,  441.78502415,\n",
       "        212.52001338,  464.30548732])"
      ]
     },
     "execution_count": 31,
     "metadata": {},
     "output_type": "execute_result"
    }
   ],
   "source": [
    "pipe.fit(X,y)\n",
    "pipe.predict(X)"
   ]
  },
  {
   "cell_type": "code",
   "execution_count": null,
   "metadata": {},
   "outputs": [],
   "source": []
  }
 ],
 "metadata": {
  "kernelspec": {
   "display_name": "Python 3",
   "language": "python",
   "name": "python3"
  },
  "language_info": {
   "codemirror_mode": {
    "name": "ipython",
    "version": 3
   },
   "file_extension": ".py",
   "mimetype": "text/x-python",
   "name": "python",
   "nbconvert_exporter": "python",
   "pygments_lexer": "ipython3",
   "version": "3.7.6"
  }
 },
 "nbformat": 4,
 "nbformat_minor": 4
}
