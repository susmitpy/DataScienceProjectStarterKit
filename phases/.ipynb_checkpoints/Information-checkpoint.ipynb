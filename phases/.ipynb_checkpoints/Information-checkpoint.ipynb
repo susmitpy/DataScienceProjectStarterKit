{
 "cells": [
  {
   "cell_type": "markdown",
   "metadata": {},
   "source": [
    "# Observations"
   ]
  },
  {
   "cell_type": "markdown",
   "metadata": {},
   "source": [
    "#### dtypes"
   ]
  },
  {
   "cell_type": "code",
   "execution_count": 4,
   "metadata": {},
   "outputs": [
    {
     "data": {
      "text/plain": [
       "{'PassengerId': 'str',\n",
       " 'Survived': 'bool',\n",
       " 'Pclass': 'category',\n",
       " 'Sex': 'category',\n",
       " 'Embarked': 'category',\n",
       " 'SibSp': 'category',\n",
       " 'Parch': 'category'}"
      ]
     },
     "execution_count": 4,
     "metadata": {},
     "output_type": "execute_result"
    }
   ],
   "source": [
    "dtypes_mapping = {}\n",
    "cat_cols = [\"Pclass\",\"Sex\",\"Embarked\",\"SibSp\",\"Parch\"]\n",
    "dtypes_mapping.update({\"PassengerId\":\"str\",\"Survived\":\"bool\"})\n",
    "dtypes_mapping.update({i:\"category\" for i in cat_cols})\n",
    "dtypes_mapping"
   ]
  },
  {
   "cell_type": "markdown",
   "metadata": {},
   "source": [
    "# Nulls"
   ]
  },
  {
   "cell_type": "markdown",
   "metadata": {},
   "source": [
    "1. Cabin has 77% of nulls, so dropping it\n",
    "2. Embarked : Simple Imputer : most_frequent\n",
    "3. Age : Iterative Imputer , cols used : SibSp, Parch, Sex"
   ]
  },
  {
   "cell_type": "markdown",
   "metadata": {},
   "source": [
    "# Outliers"
   ]
  },
  {
   "cell_type": "markdown",
   "metadata": {},
   "source": [
    "1. There are outliers in columns:  \n",
    "   'Age_is_outlier', 'SibSp_is_outlier', 'Parch_is_outlier', 'Fare_is_outlier'\n",
    "\n",
    "2. Outlier Imputations :  \n",
    "Age : 28\n",
    "Fare : 14.46\n",
    "SibSp : 0\n",
    "Parch : 0"
   ]
  },
  {
   "cell_type": "markdown",
   "metadata": {},
   "source": [
    "## Columns Needed"
   ]
  },
  {
   "cell_type": "markdown",
   "metadata": {},
   "source": [
    "# Features"
   ]
  },
  {
   "cell_type": "markdown",
   "metadata": {},
   "source": [
    "# Transformations"
   ]
  },
  {
   "cell_type": "markdown",
   "metadata": {},
   "source": [
    "# Plots"
   ]
  }
 ],
 "metadata": {
  "kernelspec": {
   "display_name": "Python 3",
   "language": "python",
   "name": "python3"
  },
  "language_info": {
   "codemirror_mode": {
    "name": "ipython",
    "version": 3
   },
   "file_extension": ".py",
   "mimetype": "text/x-python",
   "name": "python",
   "nbconvert_exporter": "python",
   "pygments_lexer": "ipython3",
   "version": "3.7.6"
  }
 },
 "nbformat": 4,
 "nbformat_minor": 4
}
