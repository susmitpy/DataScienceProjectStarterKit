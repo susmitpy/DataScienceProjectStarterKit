{
 "cells": [
  {
   "cell_type": "code",
   "execution_count": 4,
   "metadata": {},
   "outputs": [],
   "source": [
    "import pandas as pd\n",
    "import numpy as np\n",
    "from sklearn.feature_selection import VarianceThreshold\n",
    "\n",
    "from json import load"
   ]
  },
  {
   "cell_type": "code",
   "execution_count": 5,
   "metadata": {},
   "outputs": [
    {
     "data": {
      "text/plain": [
       "{'Parch_is_outlier': 'bool',\n",
       " 'Fare_is_outlier': 'bool',\n",
       " 'Age_is_outlier': 'bool',\n",
       " 'SibSp_is_outlier': 'bool',\n",
       " 'Survived': 'bool',\n",
       " 'Age_is_null': 'bool',\n",
       " 'Cabin_is_null': 'bool',\n",
       " 'Embarked_is_null': 'bool',\n",
       " 'Sex': 'category',\n",
       " 'Pclass': 'category',\n",
       " 'Embarked': 'category',\n",
       " 'Parch': 'category',\n",
       " 'SibSp': 'category'}"
      ]
     },
     "execution_count": 5,
     "metadata": {},
     "output_type": "execute_result"
    }
   ],
   "source": [
    "df = pd.read_csv(\"../intermediate_data/null_outlier_duplicates_handled.csv\")\n",
    "with open(\"../intermediate_data/dtypes.json\",\"r\") as f:\n",
    "    mapping = load(f)\n",
    "mapping"
   ]
  },
  {
   "cell_type": "code",
   "execution_count": null,
   "metadata": {},
   "outputs": [],
   "source": [
    "df = DTypeTransformer(mapping).fit_transform(df)"
   ]
  },
  {
   "cell_type": "code",
   "execution_count": null,
   "metadata": {},
   "outputs": [],
   "source": [
    "train = df.sample(frac=0.8)\n",
    "test = df.drop(train.index)\n",
    "\n",
    "target_col = \"Survived\""
   ]
  },
  {
   "cell_type": "markdown",
   "metadata": {},
   "source": [
    "train will be used to compute parameters for feature engineering  \n",
    "val will be used to validate that 'unseen' data behaves in same way after applying feature engineering using parameters learned from 'train' dataset"
   ]
  },
  {
   "cell_type": "code",
   "execution_count": null,
   "metadata": {},
   "outputs": [],
   "source": [
    "(df.shape,train.shape,test.shape)"
   ]
  },
  {
   "cell_type": "markdown",
   "metadata": {},
   "source": [
    "# Self EDA, Feature Engineering and Validation"
   ]
  },
  {
   "cell_type": "code",
   "execution_count": 91,
   "metadata": {},
   "outputs": [
    {
     "data": {
      "text/html": [
       "<div>\n",
       "<style scoped>\n",
       "    .dataframe tbody tr th:only-of-type {\n",
       "        vertical-align: middle;\n",
       "    }\n",
       "\n",
       "    .dataframe tbody tr th {\n",
       "        vertical-align: top;\n",
       "    }\n",
       "\n",
       "    .dataframe thead th {\n",
       "        text-align: right;\n",
       "    }\n",
       "</style>\n",
       "<table border=\"1\" class=\"dataframe\">\n",
       "  <thead>\n",
       "    <tr style=\"text-align: right;\">\n",
       "      <th></th>\n",
       "      <th>Name</th>\n",
       "      <th>Embarked</th>\n",
       "      <th>Sex</th>\n",
       "      <th>Ticket</th>\n",
       "      <th>Parch</th>\n",
       "      <th>Fare</th>\n",
       "      <th>PassengerId</th>\n",
       "      <th>Age_is_outlier</th>\n",
       "      <th>null_pct</th>\n",
       "      <th>Pclass</th>\n",
       "      <th>Age</th>\n",
       "      <th>Parch_is_outlier</th>\n",
       "      <th>Survived</th>\n",
       "      <th>SibSp_is_outlier</th>\n",
       "      <th>SibSp</th>\n",
       "      <th>Fare_is_outlier</th>\n",
       "      <th>Age_is_null</th>\n",
       "      <th>Cabin_is_null</th>\n",
       "      <th>Embarked_is_null</th>\n",
       "    </tr>\n",
       "  </thead>\n",
       "  <tbody>\n",
       "    <tr>\n",
       "      <th>734</th>\n",
       "      <td>Troupiansky, Mr. Moses Aaron</td>\n",
       "      <td>S</td>\n",
       "      <td>male</td>\n",
       "      <td>233639</td>\n",
       "      <td>0</td>\n",
       "      <td>13.000</td>\n",
       "      <td>735</td>\n",
       "      <td>False</td>\n",
       "      <td>8.33</td>\n",
       "      <td>2</td>\n",
       "      <td>23.0</td>\n",
       "      <td>False</td>\n",
       "      <td>False</td>\n",
       "      <td>False</td>\n",
       "      <td>0</td>\n",
       "      <td>False</td>\n",
       "      <td>False</td>\n",
       "      <td>True</td>\n",
       "      <td>False</td>\n",
       "    </tr>\n",
       "    <tr>\n",
       "      <th>848</th>\n",
       "      <td>Harper, Rev. John</td>\n",
       "      <td>S</td>\n",
       "      <td>male</td>\n",
       "      <td>248727</td>\n",
       "      <td>1</td>\n",
       "      <td>33.000</td>\n",
       "      <td>849</td>\n",
       "      <td>False</td>\n",
       "      <td>8.33</td>\n",
       "      <td>2</td>\n",
       "      <td>28.0</td>\n",
       "      <td>True</td>\n",
       "      <td>False</td>\n",
       "      <td>False</td>\n",
       "      <td>0</td>\n",
       "      <td>False</td>\n",
       "      <td>False</td>\n",
       "      <td>True</td>\n",
       "      <td>False</td>\n",
       "    </tr>\n",
       "    <tr>\n",
       "      <th>342</th>\n",
       "      <td>Collander, Mr. Erik Gustaf</td>\n",
       "      <td>S</td>\n",
       "      <td>male</td>\n",
       "      <td>248740</td>\n",
       "      <td>0</td>\n",
       "      <td>13.000</td>\n",
       "      <td>343</td>\n",
       "      <td>False</td>\n",
       "      <td>8.33</td>\n",
       "      <td>2</td>\n",
       "      <td>28.0</td>\n",
       "      <td>False</td>\n",
       "      <td>False</td>\n",
       "      <td>False</td>\n",
       "      <td>0</td>\n",
       "      <td>False</td>\n",
       "      <td>False</td>\n",
       "      <td>True</td>\n",
       "      <td>False</td>\n",
       "    </tr>\n",
       "    <tr>\n",
       "      <th>336</th>\n",
       "      <td>Pears, Mr. Thomas Clinton</td>\n",
       "      <td>S</td>\n",
       "      <td>male</td>\n",
       "      <td>113776</td>\n",
       "      <td>0</td>\n",
       "      <td>14.460</td>\n",
       "      <td>337</td>\n",
       "      <td>False</td>\n",
       "      <td>0.00</td>\n",
       "      <td>1</td>\n",
       "      <td>29.0</td>\n",
       "      <td>False</td>\n",
       "      <td>False</td>\n",
       "      <td>False</td>\n",
       "      <td>1</td>\n",
       "      <td>True</td>\n",
       "      <td>False</td>\n",
       "      <td>False</td>\n",
       "      <td>False</td>\n",
       "    </tr>\n",
       "    <tr>\n",
       "      <th>350</th>\n",
       "      <td>Odahl, Mr. Nils Martin</td>\n",
       "      <td>S</td>\n",
       "      <td>male</td>\n",
       "      <td>7267</td>\n",
       "      <td>0</td>\n",
       "      <td>9.225</td>\n",
       "      <td>351</td>\n",
       "      <td>False</td>\n",
       "      <td>8.33</td>\n",
       "      <td>3</td>\n",
       "      <td>23.0</td>\n",
       "      <td>False</td>\n",
       "      <td>False</td>\n",
       "      <td>False</td>\n",
       "      <td>0</td>\n",
       "      <td>False</td>\n",
       "      <td>False</td>\n",
       "      <td>True</td>\n",
       "      <td>False</td>\n",
       "    </tr>\n",
       "  </tbody>\n",
       "</table>\n",
       "</div>"
      ],
      "text/plain": [
       "                             Name Embarked   Sex  Ticket Parch    Fare  \\\n",
       "734  Troupiansky, Mr. Moses Aaron        S  male  233639     0  13.000   \n",
       "848             Harper, Rev. John        S  male  248727     1  33.000   \n",
       "342    Collander, Mr. Erik Gustaf        S  male  248740     0  13.000   \n",
       "336     Pears, Mr. Thomas Clinton        S  male  113776     0  14.460   \n",
       "350        Odahl, Mr. Nils Martin        S  male    7267     0   9.225   \n",
       "\n",
       "     PassengerId  Age_is_outlier  null_pct Pclass   Age  Parch_is_outlier  \\\n",
       "734          735           False      8.33      2  23.0             False   \n",
       "848          849           False      8.33      2  28.0              True   \n",
       "342          343           False      8.33      2  28.0             False   \n",
       "336          337           False      0.00      1  29.0             False   \n",
       "350          351           False      8.33      3  23.0             False   \n",
       "\n",
       "     Survived  SibSp_is_outlier SibSp  Fare_is_outlier  Age_is_null  \\\n",
       "734     False             False     0            False        False   \n",
       "848     False             False     0            False        False   \n",
       "342     False             False     0            False        False   \n",
       "336     False             False     1             True        False   \n",
       "350     False             False     0            False        False   \n",
       "\n",
       "     Cabin_is_null  Embarked_is_null  \n",
       "734           True             False  \n",
       "848           True             False  \n",
       "342           True             False  \n",
       "336          False             False  \n",
       "350           True             False  "
      ]
     },
     "execution_count": 91,
     "metadata": {},
     "output_type": "execute_result"
    }
   ],
   "source": [
    "train.head()"
   ]
  },
  {
   "cell_type": "markdown",
   "metadata": {},
   "source": [
    "### Explore, find patterns, engineer features (some based on assumptions) using train dataset\n",
    "### Validate those assumptions using test dataset"
   ]
  },
  {
   "cell_type": "markdown",
   "metadata": {},
   "source": [
    "## Feature Transformations"
   ]
  },
  {
   "cell_type": "markdown",
   "metadata": {},
   "source": [
    "#### Before that, checking for low variance features"
   ]
  },
  {
   "cell_type": "code",
   "execution_count": 106,
   "metadata": {},
   "outputs": [
    {
     "ename": "NameError",
     "evalue": "name 'VarianceThreshold' is not defined",
     "output_type": "error",
     "traceback": [
      "\u001b[0;31m---------------------------------------------------------------------------\u001b[0m",
      "\u001b[0;31mNameError\u001b[0m                                 Traceback (most recent call last)",
      "\u001b[0;32m<ipython-input-106-4a81f66a4e87>\u001b[0m in \u001b[0;36m<module>\u001b[0;34m\u001b[0m\n\u001b[0;32m----> 1\u001b[0;31m \u001b[0mvar_thresh\u001b[0m \u001b[0;34m=\u001b[0m \u001b[0mVarianceThreshold\u001b[0m\u001b[0;34m(\u001b[0m\u001b[0;34m)\u001b[0m\u001b[0;34m\u001b[0m\u001b[0;34m\u001b[0m\u001b[0m\n\u001b[0m\u001b[1;32m      2\u001b[0m \u001b[0mvar_thresh\u001b[0m\u001b[0;34m.\u001b[0m\u001b[0mfit\u001b[0m\u001b[0;34m(\u001b[0m\u001b[0mdf\u001b[0m\u001b[0;34m)\u001b[0m\u001b[0;34m\u001b[0m\u001b[0;34m\u001b[0m\u001b[0m\n",
      "\u001b[0;31mNameError\u001b[0m: name 'VarianceThreshold' is not defined"
     ]
    }
   ],
   "source": [
    "var_thresh = VarianceThreshold()\n",
    "var_thresh.fit(df)"
   ]
  },
  {
   "cell_type": "code",
   "execution_count": null,
   "metadata": {},
   "outputs": [],
   "source": [
    "var_thresh = VarianceThreshold()\n",
    "var_thresh.fit(df)\n",
    "cols_removed = [j for i,j in enumerate(list(num_data.columns)) if not var_thresh.get_support()[i]]\n",
    "\n",
    "print(\"Cols Removed: \", cols_removed)\n",
    "\n",
    "df.drop(num_data.columns,axis=1,inplace=True)\n",
    "df = pd.concat([df,num_data.iloc[:,var_thresh.get_support()]],axis=1)"
   ]
  },
  {
   "cell_type": "markdown",
   "metadata": {},
   "source": [
    "#### Standardizing features"
   ]
  },
  {
   "cell_type": "markdown",
   "metadata": {},
   "source": [
    "##### Transform numeric features , find the best transformation for each feature\n"
   ]
  },
  {
   "cell_type": "code",
   "execution_count": 6,
   "metadata": {},
   "outputs": [],
   "source": [
    "# if it follows standard, user standard scaler, else find the transformation, first get it to normal , then scaling of not in bounds"
   ]
  },
  {
   "cell_type": "code",
   "execution_count": null,
   "metadata": {},
   "outputs": [],
   "source": []
  }
 ],
 "metadata": {
  "kernelspec": {
   "display_name": "Python 3",
   "language": "python",
   "name": "python3"
  },
  "language_info": {
   "codemirror_mode": {
    "name": "ipython",
    "version": 3
   },
   "file_extension": ".py",
   "mimetype": "text/x-python",
   "name": "python",
   "nbconvert_exporter": "python",
   "pygments_lexer": "ipython3",
   "version": "3.7.6"
  }
 },
 "nbformat": 4,
 "nbformat_minor": 4
}
