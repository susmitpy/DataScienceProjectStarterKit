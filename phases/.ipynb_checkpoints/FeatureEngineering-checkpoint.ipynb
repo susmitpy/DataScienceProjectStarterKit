{
 "cells": [
  {
   "cell_type": "code",
   "execution_count": 1,
   "metadata": {},
   "outputs": [],
   "source": [
    "from json import load\n",
    "\n",
    "import pandas as pd\n",
    "import numpy as np\n",
    "\n",
    "from sklearn.preprocessing import StandardScaler, MinMaxScaler, RobustScaler\n",
    "\n",
    "\n",
    "from utils.common_transformers import DTypeTransformer, LogTransformer"
   ]
  },
  {
   "cell_type": "code",
   "execution_count": 2,
   "metadata": {},
   "outputs": [
    {
     "data": {
      "text/plain": [
       "{'Parch_is_outlier': 'bool',\n",
       " 'Fare_is_outlier': 'bool',\n",
       " 'Age_is_outlier': 'bool',\n",
       " 'SibSp_is_outlier': 'bool',\n",
       " 'Survived': 'bool',\n",
       " 'Age_is_null': 'bool',\n",
       " 'Cabin_is_null': 'bool',\n",
       " 'Embarked_is_null': 'bool',\n",
       " 'Sex': 'category',\n",
       " 'Pclass': 'category',\n",
       " 'Embarked': 'category',\n",
       " 'Parch': 'category',\n",
       " 'SibSp': 'category'}"
      ]
     },
     "execution_count": 2,
     "metadata": {},
     "output_type": "execute_result"
    }
   ],
   "source": [
    "df = pd.read_csv(\"../intermediate_data/null_outlier_duplicates_handled.csv\")\n",
    "with open(\"../intermediate_data/dtypes.json\",\"r\") as f:\n",
    "    mapping = load(f)\n",
    "mapping"
   ]
  },
  {
   "cell_type": "code",
   "execution_count": 3,
   "metadata": {},
   "outputs": [],
   "source": [
    "df = DTypeTransformer(mapping).fit_transform(df)"
   ]
  },
  {
   "cell_type": "code",
   "execution_count": 4,
   "metadata": {},
   "outputs": [],
   "source": [
    "train = df.sample(frac=0.8)\n",
    "test = df.drop(train.index)\n",
    "\n",
    "target_col = \"Survived\""
   ]
  },
  {
   "cell_type": "markdown",
   "metadata": {},
   "source": [
    "train will be used to compute parameters for feature engineering  \n",
    "val will be used to validate that 'unseen' data behaves in same way after applying feature engineering using parameters learned from 'train' dataset"
   ]
  },
  {
   "cell_type": "code",
   "execution_count": 8,
   "metadata": {},
   "outputs": [
    {
     "data": {
      "text/plain": [
       "((891, 19), (713, 19), (178, 19))"
      ]
     },
     "execution_count": 8,
     "metadata": {},
     "output_type": "execute_result"
    }
   ],
   "source": [
    "(df.shape,train.shape,test.shape)"
   ]
  },
  {
   "cell_type": "markdown",
   "metadata": {},
   "source": [
    "# Feature Engineering and Validation"
   ]
  },
  {
   "cell_type": "code",
   "execution_count": 91,
   "metadata": {},
   "outputs": [
    {
     "data": {
      "text/html": [
       "<div>\n",
       "<style scoped>\n",
       "    .dataframe tbody tr th:only-of-type {\n",
       "        vertical-align: middle;\n",
       "    }\n",
       "\n",
       "    .dataframe tbody tr th {\n",
       "        vertical-align: top;\n",
       "    }\n",
       "\n",
       "    .dataframe thead th {\n",
       "        text-align: right;\n",
       "    }\n",
       "</style>\n",
       "<table border=\"1\" class=\"dataframe\">\n",
       "  <thead>\n",
       "    <tr style=\"text-align: right;\">\n",
       "      <th></th>\n",
       "      <th>Name</th>\n",
       "      <th>Embarked</th>\n",
       "      <th>Sex</th>\n",
       "      <th>Ticket</th>\n",
       "      <th>Parch</th>\n",
       "      <th>Fare</th>\n",
       "      <th>PassengerId</th>\n",
       "      <th>Age_is_outlier</th>\n",
       "      <th>null_pct</th>\n",
       "      <th>Pclass</th>\n",
       "      <th>Age</th>\n",
       "      <th>Parch_is_outlier</th>\n",
       "      <th>Survived</th>\n",
       "      <th>SibSp_is_outlier</th>\n",
       "      <th>SibSp</th>\n",
       "      <th>Fare_is_outlier</th>\n",
       "      <th>Age_is_null</th>\n",
       "      <th>Cabin_is_null</th>\n",
       "      <th>Embarked_is_null</th>\n",
       "    </tr>\n",
       "  </thead>\n",
       "  <tbody>\n",
       "    <tr>\n",
       "      <th>734</th>\n",
       "      <td>Troupiansky, Mr. Moses Aaron</td>\n",
       "      <td>S</td>\n",
       "      <td>male</td>\n",
       "      <td>233639</td>\n",
       "      <td>0</td>\n",
       "      <td>13.000</td>\n",
       "      <td>735</td>\n",
       "      <td>False</td>\n",
       "      <td>8.33</td>\n",
       "      <td>2</td>\n",
       "      <td>23.0</td>\n",
       "      <td>False</td>\n",
       "      <td>False</td>\n",
       "      <td>False</td>\n",
       "      <td>0</td>\n",
       "      <td>False</td>\n",
       "      <td>False</td>\n",
       "      <td>True</td>\n",
       "      <td>False</td>\n",
       "    </tr>\n",
       "    <tr>\n",
       "      <th>848</th>\n",
       "      <td>Harper, Rev. John</td>\n",
       "      <td>S</td>\n",
       "      <td>male</td>\n",
       "      <td>248727</td>\n",
       "      <td>1</td>\n",
       "      <td>33.000</td>\n",
       "      <td>849</td>\n",
       "      <td>False</td>\n",
       "      <td>8.33</td>\n",
       "      <td>2</td>\n",
       "      <td>28.0</td>\n",
       "      <td>True</td>\n",
       "      <td>False</td>\n",
       "      <td>False</td>\n",
       "      <td>0</td>\n",
       "      <td>False</td>\n",
       "      <td>False</td>\n",
       "      <td>True</td>\n",
       "      <td>False</td>\n",
       "    </tr>\n",
       "    <tr>\n",
       "      <th>342</th>\n",
       "      <td>Collander, Mr. Erik Gustaf</td>\n",
       "      <td>S</td>\n",
       "      <td>male</td>\n",
       "      <td>248740</td>\n",
       "      <td>0</td>\n",
       "      <td>13.000</td>\n",
       "      <td>343</td>\n",
       "      <td>False</td>\n",
       "      <td>8.33</td>\n",
       "      <td>2</td>\n",
       "      <td>28.0</td>\n",
       "      <td>False</td>\n",
       "      <td>False</td>\n",
       "      <td>False</td>\n",
       "      <td>0</td>\n",
       "      <td>False</td>\n",
       "      <td>False</td>\n",
       "      <td>True</td>\n",
       "      <td>False</td>\n",
       "    </tr>\n",
       "    <tr>\n",
       "      <th>336</th>\n",
       "      <td>Pears, Mr. Thomas Clinton</td>\n",
       "      <td>S</td>\n",
       "      <td>male</td>\n",
       "      <td>113776</td>\n",
       "      <td>0</td>\n",
       "      <td>14.460</td>\n",
       "      <td>337</td>\n",
       "      <td>False</td>\n",
       "      <td>0.00</td>\n",
       "      <td>1</td>\n",
       "      <td>29.0</td>\n",
       "      <td>False</td>\n",
       "      <td>False</td>\n",
       "      <td>False</td>\n",
       "      <td>1</td>\n",
       "      <td>True</td>\n",
       "      <td>False</td>\n",
       "      <td>False</td>\n",
       "      <td>False</td>\n",
       "    </tr>\n",
       "    <tr>\n",
       "      <th>350</th>\n",
       "      <td>Odahl, Mr. Nils Martin</td>\n",
       "      <td>S</td>\n",
       "      <td>male</td>\n",
       "      <td>7267</td>\n",
       "      <td>0</td>\n",
       "      <td>9.225</td>\n",
       "      <td>351</td>\n",
       "      <td>False</td>\n",
       "      <td>8.33</td>\n",
       "      <td>3</td>\n",
       "      <td>23.0</td>\n",
       "      <td>False</td>\n",
       "      <td>False</td>\n",
       "      <td>False</td>\n",
       "      <td>0</td>\n",
       "      <td>False</td>\n",
       "      <td>False</td>\n",
       "      <td>True</td>\n",
       "      <td>False</td>\n",
       "    </tr>\n",
       "  </tbody>\n",
       "</table>\n",
       "</div>"
      ],
      "text/plain": [
       "                             Name Embarked   Sex  Ticket Parch    Fare  \\\n",
       "734  Troupiansky, Mr. Moses Aaron        S  male  233639     0  13.000   \n",
       "848             Harper, Rev. John        S  male  248727     1  33.000   \n",
       "342    Collander, Mr. Erik Gustaf        S  male  248740     0  13.000   \n",
       "336     Pears, Mr. Thomas Clinton        S  male  113776     0  14.460   \n",
       "350        Odahl, Mr. Nils Martin        S  male    7267     0   9.225   \n",
       "\n",
       "     PassengerId  Age_is_outlier  null_pct Pclass   Age  Parch_is_outlier  \\\n",
       "734          735           False      8.33      2  23.0             False   \n",
       "848          849           False      8.33      2  28.0              True   \n",
       "342          343           False      8.33      2  28.0             False   \n",
       "336          337           False      0.00      1  29.0             False   \n",
       "350          351           False      8.33      3  23.0             False   \n",
       "\n",
       "     Survived  SibSp_is_outlier SibSp  Fare_is_outlier  Age_is_null  \\\n",
       "734     False             False     0            False        False   \n",
       "848     False             False     0            False        False   \n",
       "342     False             False     0            False        False   \n",
       "336     False             False     1             True        False   \n",
       "350     False             False     0            False        False   \n",
       "\n",
       "     Cabin_is_null  Embarked_is_null  \n",
       "734           True             False  \n",
       "848           True             False  \n",
       "342           True             False  \n",
       "336          False             False  \n",
       "350           True             False  "
      ]
     },
     "execution_count": 91,
     "metadata": {},
     "output_type": "execute_result"
    }
   ],
   "source": [
    "train.head()"
   ]
  },
  {
   "cell_type": "markdown",
   "metadata": {},
   "source": [
    "### Explore, engineer features (some based on assumptions) using train dataset\n",
    "### Validate those assumptions using test dataset"
   ]
  },
  {
   "cell_type": "markdown",
   "metadata": {},
   "source": [
    "## Feature Transformations"
   ]
  },
  {
   "cell_type": "markdown",
   "metadata": {},
   "source": [
    "##### Transform numeric features , find the best transformation for each feature\n"
   ]
  },
  {
   "cell_type": "code",
   "execution_count": 6,
   "metadata": {},
   "outputs": [],
   "source": [
    "# if it follows standard, user standard scaler, else find the transformation, first get it to normal , then scaling of not in bounds"
   ]
  },
  {
   "cell_type": "code",
   "execution_count": 10,
   "metadata": {},
   "outputs": [],
   "source": [
    "a = [[1,88,3],[2,90,91]]\n",
    "\n",
    "b = PowerTransformer()"
   ]
  },
  {
   "cell_type": "code",
   "execution_count": 11,
   "metadata": {},
   "outputs": [
    {
     "name": "stderr",
     "output_type": "stream",
     "text": [
      "/Users/susmitvengurlekar/opt/miniconda3/lib/python3.7/site-packages/sklearn/preprocessing/_data.py:2995: RuntimeWarning: divide by zero encountered in log\n",
      "  loglike = -n_samples / 2 * np.log(x_trans.var())\n"
     ]
    },
    {
     "data": {
      "text/plain": [
       "array([[-1.,  0., -1.],\n",
       "       [ 1.,  0.,  1.]])"
      ]
     },
     "execution_count": 11,
     "metadata": {},
     "output_type": "execute_result"
    }
   ],
   "source": [
    "b.fit_transform(a)"
   ]
  },
  {
   "cell_type": "code",
   "execution_count": 12,
   "metadata": {},
   "outputs": [
    {
     "data": {
      "text/plain": [
       "array([ 1.06592698e-07, -1.89442716e+01,  1.62546826e-10])"
      ]
     },
     "execution_count": 12,
     "metadata": {},
     "output_type": "execute_result"
    }
   ],
   "source": [
    "b.lambdas_"
   ]
  },
  {
   "cell_type": "code",
   "execution_count": 13,
   "metadata": {},
   "outputs": [],
   "source": [
    "c = PowerTransformer()\n",
    "c.lambdas_ = [ 1.06592698e-07, -1.89442716e+01,  1.62546826e-10]"
   ]
  },
  {
   "cell_type": "code",
   "execution_count": 15,
   "metadata": {},
   "outputs": [
    {
     "data": {
      "text/plain": [
       "StandardScaler(copy=False)"
      ]
     },
     "execution_count": 15,
     "metadata": {},
     "output_type": "execute_result"
    }
   ],
   "source": [
    "b._scaler"
   ]
  },
  {
   "cell_type": "code",
   "execution_count": 14,
   "metadata": {},
   "outputs": [
    {
     "ename": "AttributeError",
     "evalue": "'PowerTransformer' object has no attribute '_scaler'",
     "output_type": "error",
     "traceback": [
      "\u001b[0;31m---------------------------------------------------------------------------\u001b[0m",
      "\u001b[0;31mAttributeError\u001b[0m                            Traceback (most recent call last)",
      "\u001b[0;32m<ipython-input-14-6e1cc0a2557f>\u001b[0m in \u001b[0;36m<module>\u001b[0;34m\u001b[0m\n\u001b[0;32m----> 1\u001b[0;31m \u001b[0mc\u001b[0m\u001b[0;34m.\u001b[0m\u001b[0mtransform\u001b[0m\u001b[0;34m(\u001b[0m\u001b[0ma\u001b[0m\u001b[0;34m)\u001b[0m\u001b[0;34m\u001b[0m\u001b[0;34m\u001b[0m\u001b[0m\n\u001b[0m",
      "\u001b[0;32m~/opt/miniconda3/lib/python3.7/site-packages/sklearn/preprocessing/_data.py\u001b[0m in \u001b[0;36mtransform\u001b[0;34m(self, X)\u001b[0m\n\u001b[1;32m   2863\u001b[0m \u001b[0;34m\u001b[0m\u001b[0m\n\u001b[1;32m   2864\u001b[0m         \u001b[0;32mif\u001b[0m \u001b[0mself\u001b[0m\u001b[0;34m.\u001b[0m\u001b[0mstandardize\u001b[0m\u001b[0;34m:\u001b[0m\u001b[0;34m\u001b[0m\u001b[0;34m\u001b[0m\u001b[0m\n\u001b[0;32m-> 2865\u001b[0;31m             \u001b[0mX\u001b[0m \u001b[0;34m=\u001b[0m \u001b[0mself\u001b[0m\u001b[0;34m.\u001b[0m\u001b[0m_scaler\u001b[0m\u001b[0;34m.\u001b[0m\u001b[0mtransform\u001b[0m\u001b[0;34m(\u001b[0m\u001b[0mX\u001b[0m\u001b[0;34m)\u001b[0m\u001b[0;34m\u001b[0m\u001b[0;34m\u001b[0m\u001b[0m\n\u001b[0m\u001b[1;32m   2866\u001b[0m \u001b[0;34m\u001b[0m\u001b[0m\n\u001b[1;32m   2867\u001b[0m         \u001b[0;32mreturn\u001b[0m \u001b[0mX\u001b[0m\u001b[0;34m\u001b[0m\u001b[0;34m\u001b[0m\u001b[0m\n",
      "\u001b[0;31mAttributeError\u001b[0m: 'PowerTransformer' object has no attribute '_scaler'"
     ]
    }
   ],
   "source": [
    "c.transform(a)"
   ]
  }
 ],
 "metadata": {
  "kernelspec": {
   "display_name": "Python 3",
   "language": "python",
   "name": "python3"
  },
  "language_info": {
   "codemirror_mode": {
    "name": "ipython",
    "version": 3
   },
   "file_extension": ".py",
   "mimetype": "text/x-python",
   "name": "python",
   "nbconvert_exporter": "python",
   "pygments_lexer": "ipython3",
   "version": "3.7.6"
  }
 },
 "nbformat": 4,
 "nbformat_minor": 4
}
