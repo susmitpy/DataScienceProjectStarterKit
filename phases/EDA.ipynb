{
 "cells": [
  {
   "cell_type": "code",
   "execution_count": null,
   "metadata": {},
   "outputs": [],
   "source": [
    "import pandas as pd\n",
    "import numpy as np\n",
    "\n",
    "import seaborn as sns\n",
    "from statsmodels.graphics.gofplots import qqplot\n",
    "import matplotlib.pyplot as plt"
   ]
  },
  {
   "cell_type": "markdown",
   "metadata": {},
   "source": [
    "### QQ Plots"
   ]
  },
  {
   "cell_type": "code",
   "execution_count": null,
   "metadata": {},
   "outputs": [],
   "source": [
    "numeric= df.select_dtypes(include=[int,float])\n",
    "num_numeric_cols = numeric.shape[1]\n",
    "num_rows = int(np.ceil(num_numeric_cols / 3))\n",
    "\n",
    "fig, axes = plt.subplots(nrows=num_rows, ncols=3, figsize=(23,5))\n",
    "ax= axes.flatten()\n",
    "for index,col in enumerate(numeric.columns,0):\n",
    "    axes = ax[index]\n",
    "    axes.set_title(col)\n",
    "    qqplot(numeric[col], line='s',ax=axes)\n",
    "    "
   ]
  }
 ],
 "metadata": {
  "kernelspec": {
   "display_name": "Python 3",
   "language": "python",
   "name": "python3"
  },
  "language_info": {
   "codemirror_mode": {
    "name": "ipython",
    "version": 3
   },
   "file_extension": ".py",
   "mimetype": "text/x-python",
   "name": "python",
   "nbconvert_exporter": "python",
   "pygments_lexer": "ipython3",
   "version": "3.7.6"
  }
 },
 "nbformat": 4,
 "nbformat_minor": 4
}
