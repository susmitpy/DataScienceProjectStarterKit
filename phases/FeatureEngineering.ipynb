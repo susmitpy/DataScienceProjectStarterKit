{
 "cells": [
  {
   "cell_type": "code",
   "execution_count": 1,
   "metadata": {},
   "outputs": [],
   "source": [
    "from json import load\n",
    "\n",
    "import pandas as pd\n",
    "import numpy as np\n",
    "\n",
    "from sklearn.preprocessing import StandardScaler, MinMaxScaler, RobustScaler\n",
    "\n",
    "\n",
    "from utils.common_transformers import DTypeTransformer, LogTransformer, SqrtTransformer"
   ]
  },
  {
   "cell_type": "code",
   "execution_count": 2,
   "metadata": {},
   "outputs": [
    {
     "data": {
      "text/plain": [
       "{'Parch_is_outlier': 'bool',\n",
       " 'Fare_is_outlier': 'bool',\n",
       " 'Age_is_outlier': 'bool',\n",
       " 'SibSp_is_outlier': 'bool',\n",
       " 'Survived': 'bool',\n",
       " 'Age_is_null': 'bool',\n",
       " 'Cabin_is_null': 'bool',\n",
       " 'Embarked_is_null': 'bool',\n",
       " 'Sex': 'category',\n",
       " 'Pclass': 'category',\n",
       " 'Embarked': 'category',\n",
       " 'Parch': 'category',\n",
       " 'SibSp': 'category'}"
      ]
     },
     "execution_count": 2,
     "metadata": {},
     "output_type": "execute_result"
    }
   ],
   "source": [
    "df = pd.read_csv(\"../intermediate_data/null_outlier_duplicates_handled.csv\")\n",
    "with open(\"../intermediate_data/dtypes.json\",\"r\") as f:\n",
    "    mapping = load(f)\n",
    "mapping"
   ]
  },
  {
   "cell_type": "code",
   "execution_count": 3,
   "metadata": {},
   "outputs": [],
   "source": [
    "df = DTypeTransformer(mapping).fit_transform(df)"
   ]
  },
  {
   "cell_type": "code",
   "execution_count": 4,
   "metadata": {},
   "outputs": [],
   "source": [
    "train = df.sample(frac=0.8)\n",
    "test = df.drop(train.index)\n",
    "\n",
    "target_col = \"Survived\""
   ]
  },
  {
   "cell_type": "markdown",
   "metadata": {},
   "source": [
    "train will be used to compute parameters for feature engineering  \n",
    "val will be used to validate that 'unseen' data behaves in same way after applying feature engineering using parameters learned from 'train' dataset"
   ]
  },
  {
   "cell_type": "code",
   "execution_count": 5,
   "metadata": {},
   "outputs": [
    {
     "data": {
      "text/plain": [
       "((891, 19), (713, 19), (178, 19))"
      ]
     },
     "execution_count": 5,
     "metadata": {},
     "output_type": "execute_result"
    }
   ],
   "source": [
    "(df.shape,train.shape,test.shape)"
   ]
  },
  {
   "cell_type": "markdown",
   "metadata": {},
   "source": [
    "# Feature Engineering and Validation"
   ]
  },
  {
   "cell_type": "code",
   "execution_count": 6,
   "metadata": {},
   "outputs": [
    {
     "data": {
      "text/html": [
       "<div>\n",
       "<style scoped>\n",
       "    .dataframe tbody tr th:only-of-type {\n",
       "        vertical-align: middle;\n",
       "    }\n",
       "\n",
       "    .dataframe tbody tr th {\n",
       "        vertical-align: top;\n",
       "    }\n",
       "\n",
       "    .dataframe thead th {\n",
       "        text-align: right;\n",
       "    }\n",
       "</style>\n",
       "<table border=\"1\" class=\"dataframe\">\n",
       "  <thead>\n",
       "    <tr style=\"text-align: right;\">\n",
       "      <th></th>\n",
       "      <th>Ticket</th>\n",
       "      <th>Sex</th>\n",
       "      <th>Name</th>\n",
       "      <th>Embarked</th>\n",
       "      <th>Fare_is_outlier</th>\n",
       "      <th>Survived</th>\n",
       "      <th>SibSp</th>\n",
       "      <th>Fare</th>\n",
       "      <th>Parch</th>\n",
       "      <th>null_pct</th>\n",
       "      <th>PassengerId</th>\n",
       "      <th>SibSp_is_outlier</th>\n",
       "      <th>Pclass</th>\n",
       "      <th>Age</th>\n",
       "      <th>Parch_is_outlier</th>\n",
       "      <th>Age_is_outlier</th>\n",
       "      <th>Age_is_null</th>\n",
       "      <th>Cabin_is_null</th>\n",
       "      <th>Embarked_is_null</th>\n",
       "    </tr>\n",
       "  </thead>\n",
       "  <tbody>\n",
       "    <tr>\n",
       "      <th>206</th>\n",
       "      <td>3101278</td>\n",
       "      <td>male</td>\n",
       "      <td>Backstrom, Mr. Karl Alfred</td>\n",
       "      <td>S</td>\n",
       "      <td>False</td>\n",
       "      <td>False</td>\n",
       "      <td>1</td>\n",
       "      <td>15.850</td>\n",
       "      <td>0</td>\n",
       "      <td>8.33</td>\n",
       "      <td>207</td>\n",
       "      <td>False</td>\n",
       "      <td>3</td>\n",
       "      <td>32.0</td>\n",
       "      <td>False</td>\n",
       "      <td>False</td>\n",
       "      <td>False</td>\n",
       "      <td>True</td>\n",
       "      <td>False</td>\n",
       "    </tr>\n",
       "    <tr>\n",
       "      <th>345</th>\n",
       "      <td>248733</td>\n",
       "      <td>female</td>\n",
       "      <td>Brown, Miss. Amelia \"Mildred\"</td>\n",
       "      <td>S</td>\n",
       "      <td>False</td>\n",
       "      <td>True</td>\n",
       "      <td>0</td>\n",
       "      <td>13.000</td>\n",
       "      <td>0</td>\n",
       "      <td>0.00</td>\n",
       "      <td>346</td>\n",
       "      <td>False</td>\n",
       "      <td>2</td>\n",
       "      <td>24.0</td>\n",
       "      <td>False</td>\n",
       "      <td>False</td>\n",
       "      <td>False</td>\n",
       "      <td>False</td>\n",
       "      <td>False</td>\n",
       "    </tr>\n",
       "    <tr>\n",
       "      <th>382</th>\n",
       "      <td>STON/O 2. 3101293</td>\n",
       "      <td>male</td>\n",
       "      <td>Tikkanen, Mr. Juho</td>\n",
       "      <td>S</td>\n",
       "      <td>False</td>\n",
       "      <td>False</td>\n",
       "      <td>0</td>\n",
       "      <td>7.925</td>\n",
       "      <td>0</td>\n",
       "      <td>8.33</td>\n",
       "      <td>383</td>\n",
       "      <td>False</td>\n",
       "      <td>3</td>\n",
       "      <td>32.0</td>\n",
       "      <td>False</td>\n",
       "      <td>False</td>\n",
       "      <td>False</td>\n",
       "      <td>True</td>\n",
       "      <td>False</td>\n",
       "    </tr>\n",
       "    <tr>\n",
       "      <th>408</th>\n",
       "      <td>312992</td>\n",
       "      <td>male</td>\n",
       "      <td>Birkeland, Mr. Hans Martin Monsen</td>\n",
       "      <td>S</td>\n",
       "      <td>False</td>\n",
       "      <td>False</td>\n",
       "      <td>0</td>\n",
       "      <td>7.775</td>\n",
       "      <td>0</td>\n",
       "      <td>8.33</td>\n",
       "      <td>409</td>\n",
       "      <td>False</td>\n",
       "      <td>3</td>\n",
       "      <td>21.0</td>\n",
       "      <td>False</td>\n",
       "      <td>False</td>\n",
       "      <td>False</td>\n",
       "      <td>True</td>\n",
       "      <td>False</td>\n",
       "    </tr>\n",
       "    <tr>\n",
       "      <th>812</th>\n",
       "      <td>28206</td>\n",
       "      <td>male</td>\n",
       "      <td>Slemen, Mr. Richard James</td>\n",
       "      <td>S</td>\n",
       "      <td>False</td>\n",
       "      <td>False</td>\n",
       "      <td>0</td>\n",
       "      <td>10.500</td>\n",
       "      <td>0</td>\n",
       "      <td>8.33</td>\n",
       "      <td>813</td>\n",
       "      <td>False</td>\n",
       "      <td>2</td>\n",
       "      <td>35.0</td>\n",
       "      <td>False</td>\n",
       "      <td>False</td>\n",
       "      <td>False</td>\n",
       "      <td>True</td>\n",
       "      <td>False</td>\n",
       "    </tr>\n",
       "  </tbody>\n",
       "</table>\n",
       "</div>"
      ],
      "text/plain": [
       "                Ticket     Sex                               Name Embarked  \\\n",
       "206            3101278    male         Backstrom, Mr. Karl Alfred        S   \n",
       "345             248733  female      Brown, Miss. Amelia \"Mildred\"        S   \n",
       "382  STON/O 2. 3101293    male                 Tikkanen, Mr. Juho        S   \n",
       "408             312992    male  Birkeland, Mr. Hans Martin Monsen        S   \n",
       "812              28206    male          Slemen, Mr. Richard James        S   \n",
       "\n",
       "     Fare_is_outlier  Survived SibSp    Fare Parch  null_pct  PassengerId  \\\n",
       "206            False     False     1  15.850     0      8.33          207   \n",
       "345            False      True     0  13.000     0      0.00          346   \n",
       "382            False     False     0   7.925     0      8.33          383   \n",
       "408            False     False     0   7.775     0      8.33          409   \n",
       "812            False     False     0  10.500     0      8.33          813   \n",
       "\n",
       "     SibSp_is_outlier Pclass   Age  Parch_is_outlier  Age_is_outlier  \\\n",
       "206             False      3  32.0             False           False   \n",
       "345             False      2  24.0             False           False   \n",
       "382             False      3  32.0             False           False   \n",
       "408             False      3  21.0             False           False   \n",
       "812             False      2  35.0             False           False   \n",
       "\n",
       "     Age_is_null  Cabin_is_null  Embarked_is_null  \n",
       "206        False           True             False  \n",
       "345        False          False             False  \n",
       "382        False           True             False  \n",
       "408        False           True             False  \n",
       "812        False           True             False  "
      ]
     },
     "execution_count": 6,
     "metadata": {},
     "output_type": "execute_result"
    }
   ],
   "source": [
    "train.head()"
   ]
  },
  {
   "cell_type": "markdown",
   "metadata": {},
   "source": [
    "### Explore, engineer features (some based on assumptions) using train dataset\n",
    "### Validate those assumptions using test dataset"
   ]
  },
  {
   "cell_type": "markdown",
   "metadata": {},
   "source": [
    "## Feature Transformations"
   ]
  },
  {
   "cell_type": "markdown",
   "metadata": {},
   "source": [
    "##### Transform numeric features , find the best transformation for each feature\n"
   ]
  },
  {
   "cell_type": "code",
   "execution_count": 7,
   "metadata": {},
   "outputs": [],
   "source": [
    "# if it follows standard, user standard scaler, else find the transformation, first get it to normal , then scaling of not in bounds"
   ]
  },
  {
   "cell_type": "code",
   "execution_count": null,
   "metadata": {},
   "outputs": [],
   "source": [
    "d = pd.DataFrame({\n",
    "    \"A\" : []\n",
    "})"
   ]
  }
 ],
 "metadata": {
  "kernelspec": {
   "display_name": "Python 3",
   "language": "python",
   "name": "python3"
  },
  "language_info": {
   "codemirror_mode": {
    "name": "ipython",
    "version": 3
   },
   "file_extension": ".py",
   "mimetype": "text/x-python",
   "name": "python",
   "nbconvert_exporter": "python",
   "pygments_lexer": "ipython3",
   "version": "3.7.6"
  }
 },
 "nbformat": 4,
 "nbformat_minor": 4
}
